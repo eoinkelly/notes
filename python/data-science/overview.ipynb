{
 "cells": [
  {
   "cell_type": "code",
   "execution_count": 4,
   "metadata": {},
   "outputs": [
    {
     "name": "stdout",
     "output_type": "stream",
     "text": [
      "pytorch version: 2.0.0\n",
      "tensor([[0.4684, 0.3201, 0.6268],\n",
      "        [0.8261, 0.8445, 0.6298],\n",
      "        [0.0147, 0.4015, 0.4519],\n",
      "        [0.9061, 0.2946, 0.9329],\n",
      "        [0.1107, 0.8768, 0.5141]])\n"
     ]
    }
   ],
   "source": [
    "# verify pytorch installed correctly in this python\n",
    "\n",
    "import torch\n",
    "\n",
    "print(f\"pytorch version: {torch.__version__}\")\n",
    "\n",
    "x = torch.rand(5, 3)\n",
    "print(x)"
   ]
  },
  {
   "cell_type": "code",
   "execution_count": null,
   "metadata": {},
   "outputs": [],
   "source": []
  }
 ],
 "metadata": {
  "kernelspec": {
   "display_name": "Python 3",
   "language": "python",
   "name": "python3"
  },
  "language_info": {
   "codemirror_mode": {
    "name": "ipython",
    "version": 3
   },
   "file_extension": ".py",
   "mimetype": "text/x-python",
   "name": "python",
   "nbconvert_exporter": "python",
   "pygments_lexer": "ipython3",
   "version": "3.11.2"
  },
  "orig_nbformat": 4
 },
 "nbformat": 4,
 "nbformat_minor": 2
}
