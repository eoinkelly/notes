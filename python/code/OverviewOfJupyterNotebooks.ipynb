{
 "cells": [
  {
   "attachments": {},
   "cell_type": "markdown",
   "id": "891bd76f-3aaa-4156-a910-1bcd9666e6cc",
   "metadata": {},
   "source": [
    "# An overview of Jupyter notebooks "
   ]
  },
  {
   "cell_type": "code",
   "execution_count": 1,
   "id": "891d3b2f-fca2-4c36-b552-244732f569f3",
   "metadata": {
    "tags": []
   },
   "outputs": [
    {
     "name": "stdout",
     "output_type": "stream",
     "text": [
      "22\n"
     ]
    }
   ],
   "source": [
    "x = 3\n",
    "y = 4 \n",
    "z = x * y + 10\n",
    "print(z) # prints into the document immediately under this cell"
   ]
  },
  {
   "attachments": {},
   "cell_type": "markdown",
   "id": "56b72f99-bda4-49c7-b63b-4960e24e57a8",
   "metadata": {
    "tags": [
     "overview"
    ]
   },
   "source": [
    "### Features of notebooks\n",
    "\n",
    "* The file format is JSON and file extension is `.ipynb` \n",
    "* You can store the results of code cells as well as the code\n",
    "* You can run cells one at a time as you read through the document or you can run them all.\n",
    "* VSCode has built-in support for the file format\n",
    "* Jupyter is ideal for non-devs who still need to write some code as part of their work\n"
   ]
  },
  {
   "cell_type": "code",
   "execution_count": 2,
   "id": "c5f9ca43",
   "metadata": {},
   "outputs": [
    {
     "name": "stdout",
     "output_type": "stream",
     "text": [
      "The value is:\n",
      "34\n"
     ]
    }
   ],
   "source": [
    "# this can use the variables defined in cells above it\n",
    "\n",
    "a = z + 12\n",
    "print(\"The value is:\")\n",
    "print(a)"
   ]
  },
  {
   "cell_type": "code",
   "execution_count": 6,
   "id": "0998bf8a",
   "metadata": {},
   "outputs": [
    {
     "name": "stdout",
     "output_type": "stream",
     "text": [
      "total 336\n",
      "drwxr-xr-x@  9 eoinkelly  staff     288  7 Apr 06:46 \u001b[1m\u001b[36m.\u001b[m\u001b[m\n",
      "drwxr-xr-x@  9 eoinkelly  staff     288  7 Apr 07:04 \u001b[1m\u001b[36m..\u001b[m\u001b[m\n",
      "-rw-r--r--@  1 eoinkelly  staff      10  2 Apr 14:31 .gitignore\n",
      "-rw-r--r--@  1 eoinkelly  staff       8  2 Apr 08:46 .python-version\n",
      "-rw-r--r--@  1 eoinkelly  staff    3909  7 Apr 07:23 OverviewOfJupyterNotebooks.ipynb\n",
      "-rw-r--r--@  1 eoinkelly  staff  156696  2 Apr 11:56 data-science-2.ipynb\n",
      "drwxr-xr-x@  3 eoinkelly  staff      96  2 Apr 14:32 \u001b[1m\u001b[36mdatasets\u001b[m\u001b[m\n",
      "drwxr-xr-x@ 12 eoinkelly  staff     384  2 Apr 14:13 \u001b[1m\u001b[36mexamples\u001b[m\u001b[m\n",
      "drwxr-xr-x@  6 eoinkelly  staff     192  2 Apr 09:25 \u001b[1m\u001b[36mpoetry_new_output_example\u001b[m\u001b[m\n",
      "/Users/eoinkelly/.pyenv/versions/3.11.2/bin/python\n",
      "Python 3.11.2\n",
      "Package           Version\n",
      "----------------- -------\n",
      "appnope           0.1.3\n",
      "asttokens         2.2.1\n",
      "backcall          0.2.0\n",
      "comm              0.1.3\n",
      "contourpy         1.0.7\n",
      "cycler            0.11.0\n",
      "debugpy           1.6.7\n",
      "decorator         5.1.1\n",
      "executing         1.2.0\n",
      "fonttools         4.39.3\n",
      "ipykernel         6.22.0\n",
      "ipython           8.12.0\n",
      "jedi              0.18.2\n",
      "joblib            1.2.0\n",
      "jupyter_client    8.1.0\n",
      "jupyter_core      5.3.0\n",
      "kiwisolver        1.4.4\n",
      "matplotlib        3.7.1\n",
      "matplotlib-inline 0.1.6\n",
      "nest-asyncio      1.5.6\n",
      "numpy             1.24.2\n",
      "packaging         23.0\n",
      "pandas            2.0.0\n",
      "parso             0.8.3\n",
      "pexpect           4.8.0\n",
      "pickleshare       0.7.5\n",
      "Pillow            9.5.0\n",
      "pip               23.0.1\n",
      "platformdirs      3.2.0\n",
      "plotly            5.14.1\n",
      "prompt-toolkit    3.0.38\n",
      "psutil            5.9.4\n",
      "ptyprocess        0.7.0\n",
      "pure-eval         0.2.2\n",
      "Pygments          2.14.0\n",
      "pyparsing         3.0.9\n",
      "python-dateutil   2.8.2\n",
      "pytz              2023.3\n",
      "pyzmq             25.0.2\n",
      "scikit-learn      1.2.2\n",
      "scipy             1.10.1\n",
      "setuptools        65.5.0\n",
      "six               1.16.0\n",
      "stack-data        0.6.2\n",
      "tenacity          8.2.2\n",
      "threadpoolctl     3.1.0\n",
      "tornado           6.2\n",
      "traitlets         5.9.0\n",
      "tzdata            2023.3\n",
      "wcwidth           0.2.6\n"
     ]
    }
   ],
   "source": [
    "# You can run shell commands with !\n",
    "\n",
    "!ls -al\n",
    "\n",
    "# you can check on the running python version via the sys module\n",
    "import sys\n",
    "print(sys.executable)\n",
    "!{sys.executable} --version\n",
    "\n",
    "# you can install new packages via pip this way\n",
    "!{sys.executable} -m pip list\n",
    "# !{sys.executable} -m pip install <pkgname>"
   ]
  }
 ],
 "metadata": {
  "kernelspec": {
   "display_name": "Python 3 (ipykernel)",
   "language": "python",
   "name": "python3"
  },
  "language_info": {
   "codemirror_mode": {
    "name": "ipython",
    "version": 3
   },
   "file_extension": ".py",
   "mimetype": "text/x-python",
   "name": "python",
   "nbconvert_exporter": "python",
   "pygments_lexer": "ipython3",
   "version": "3.11.2"
  }
 },
 "nbformat": 4,
 "nbformat_minor": 5
}
