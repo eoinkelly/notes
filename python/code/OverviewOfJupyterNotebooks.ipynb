{
 "cells": [
  {
   "attachments": {},
   "cell_type": "markdown",
   "id": "891bd76f-3aaa-4156-a910-1bcd9666e6cc",
   "metadata": {},
   "source": [
    "# An overview of Jupyter notebooks "
   ]
  },
  {
   "cell_type": "code",
   "execution_count": 1,
   "id": "891d3b2f-fca2-4c36-b552-244732f569f3",
   "metadata": {
    "tags": []
   },
   "outputs": [
    {
     "name": "stdout",
     "output_type": "stream",
     "text": [
      "22\n"
     ]
    }
   ],
   "source": [
    "x = 3\n",
    "y = 4 \n",
    "z = x * y + 10\n",
    "print(z) # prints into the document immediately under this cell"
   ]
  },
  {
   "attachments": {},
   "cell_type": "markdown",
   "id": "56b72f99-bda4-49c7-b63b-4960e24e57a8",
   "metadata": {
    "tags": [
     "overview"
    ]
   },
   "source": [
    "### Features of notebooks\n",
    "\n",
    "* The file format is JSON and file extension is `.ipynb` \n",
    "* You can store the results of code cells as well as the code\n",
    "* You can run cells one at a time as you read through the document or you can run them all.\n",
    "* VSCode has built-in support for the file format\n",
    "* Jupyter is ideal for non-devs who still need to write some code as part of their work\n"
   ]
  },
  {
   "cell_type": "code",
   "execution_count": 2,
   "id": "c5f9ca43",
   "metadata": {},
   "outputs": [
    {
     "name": "stdout",
     "output_type": "stream",
     "text": [
      "The value is:\n",
      "34\n"
     ]
    }
   ],
   "source": [
    "# this can use the variables defined in cells above it\n",
    "\n",
    "a = z + 12\n",
    "print(\"The value is:\")\n",
    "print(a)"
   ]
  }
 ],
 "metadata": {
  "kernelspec": {
   "display_name": "Python 3 (ipykernel)",
   "language": "python",
   "name": "python3"
  },
  "language_info": {
   "codemirror_mode": {
    "name": "ipython",
    "version": 3
   },
   "file_extension": ".py",
   "mimetype": "text/x-python",
   "name": "python",
   "nbconvert_exporter": "python",
   "pygments_lexer": "ipython3",
   "version": "3.10.0"
  }
 },
 "nbformat": 4,
 "nbformat_minor": 5
}
