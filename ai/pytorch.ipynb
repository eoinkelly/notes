{
 "cells": [
  {
   "attachments": {},
   "cell_type": "markdown",
   "metadata": {},
   "source": [
    "# pytorch\n",
    "\n",
    "- a framework for:\n",
    "    1.  deep learning\n",
    "    2.  machine learning\n",
    "- design philosophy\n",
    "  - Principle 1: Usability over performance\n",
    "  - Principle 2: Simple over easy\n",
    "    - Basically \"prefer explicit\" reworded\n",
    "  - Principle 3: Python first\n",
    "    - not just a python binding into a C++ framework\n",
    "    - have deep integration with Python\n",
    "\n",
    "- Saving and loading trained models happens via `torch.save` and `torch.load`\n",
    "  - https://pytorch.org/tutorials/beginner/saving_loading_models.html\n",
    "  - Under the hood they use the `pickle` library https://docs.python.org/3/library/pickle.html\n",
    "  - `.pyth` seems to be a filename extension used by Facebook but the pytorch docs recommend `.pt` or `.pth`\n",
    "  - pickle\n",
    "    - a binary serialisation format (seems similar to `Marshal` in Ruby)\n",
    "    - use https://docs.python.org/3/library/pickletools.html#module-pickletools to inspect pickled files\n"
   ]
  },
  {
   "cell_type": "code",
   "execution_count": 220,
   "metadata": {},
   "outputs": [
    {
     "name": "stdout",
     "output_type": "stream",
     "text": [
      "pytorch version: 2.0.0\n"
     ]
    }
   ],
   "source": [
    "import torch\n",
    "\n",
    "print(f\"pytorch version: {torch.__version__}\")"
   ]
  },
  {
   "cell_type": "code",
   "execution_count": 221,
   "metadata": {},
   "outputs": [
    {
     "data": {
      "text/plain": [
       "tensor([[[ 1.6423, -0.1596, -0.4974,  0.4396],\n",
       "         [-0.7581,  1.0783,  0.8008,  1.6806],\n",
       "         [ 0.0349,  0.3211,  1.5736, -0.8455]],\n",
       "\n",
       "        [[ 1.3123,  0.6872, -1.0892, -0.3553],\n",
       "         [-1.4181,  0.8963,  0.0499,  2.2667],\n",
       "         [ 1.1790, -0.4345, -1.3864, -1.2862]]])"
      ]
     },
     "execution_count": 221,
     "metadata": {},
     "output_type": "execute_result"
    }
   ],
   "source": [
    "# Returns a tensor filled with random numbers from a normal distribution with mean 0 and variance 1 (also called the standard normal distribution)\n",
    "torch.randn(2,3,4)"
   ]
  }
 ],
 "metadata": {
  "kernelspec": {
   "display_name": "Python 3",
   "language": "python",
   "name": "python3"
  },
  "language_info": {
   "codemirror_mode": {
    "name": "ipython",
    "version": 3
   },
   "file_extension": ".py",
   "mimetype": "text/x-python",
   "name": "python",
   "nbconvert_exporter": "python",
   "pygments_lexer": "ipython3",
   "version": "3.11.2"
  },
  "orig_nbformat": 4
 },
 "nbformat": 4,
 "nbformat_minor": 2
}
